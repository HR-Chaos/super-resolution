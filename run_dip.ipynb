{
 "cells": [
  {
   "cell_type": "code",
   "execution_count": 1,
   "metadata": {},
   "outputs": [],
   "source": [
    "import torch\n",
    "from torch import nn, optim\n",
    "from DIP import DIP\n",
    "from torch.utils.data import Dataset, DataLoader\n",
    "from torchvision import datasets, transforms\n",
    "from PIL import Image\n",
    "from customDataset import CustomDataset\n",
    "import os"
   ]
  },
  {
   "cell_type": "code",
   "execution_count": 2,
   "metadata": {},
   "outputs": [
    {
     "name": "stdout",
     "output_type": "stream",
     "text": [
      "torch.Size([1, 3, 64, 64])\n",
      "torch.Size([1, 3, 512, 512])\n"
     ]
    }
   ],
   "source": [
    "input_shape = (3, 64, 64)\n",
    "model = DIP(input_shape)\n",
    "input_image = torch.randn(1, 3, 64, 64)\n",
    "print(input_image.shape)\n",
    "output_image = model(input_image)\n",
    "print(output_image.shape)"
   ]
  },
  {
   "cell_type": "code",
   "execution_count": 3,
   "metadata": {},
   "outputs": [],
   "source": [
    "# show the input image\n",
    "input_image = input_image.squeeze(0)\n",
    "input_image = transforms.ToPILImage()(input_image)\n",
    "input_image.show()"
   ]
  },
  {
   "cell_type": "code",
   "execution_count": 4,
   "metadata": {},
   "outputs": [],
   "source": [
    "#show the output image\n",
    "output_image = output_image.squeeze(0)\n",
    "output_image = transforms.ToPILImage()(output_image)\n",
    "output_image.show()"
   ]
  },
  {
   "cell_type": "code",
   "execution_count": 5,
   "metadata": {},
   "outputs": [
    {
     "name": "stdout",
     "output_type": "stream",
     "text": [
      "500\n"
     ]
    }
   ],
   "source": [
    "# Pretraining\n",
    "# hyperparameters\n",
    "batch_size = 4\n",
    "LR_image_path = \"LR_images_mini\"\n",
    "HR_image_path = \"HR_images_mini\"\n",
    "\n",
    "loss_fn = nn.MSELoss()\n",
    "# optimizer = optim.Adam(model.parameters(), lr=1e-3)\n",
    "\n",
    "# Define a transformation operation to normalize the images\n",
    "transform = transforms.Compose([\n",
    "    transforms.ToTensor(),\n",
    "    transforms.Normalize(mean=[0.5, 0.5, 0.5], std=[0.5, 0.5, 0.5])  # normalize to [-1, 1]\n",
    "])\n",
    "\n",
    "\n",
    "dataset = CustomDataset(LR_image_path, HR_image_path, transform=transforms.ToTensor())\n",
    "print(len(dataset))\n",
    "# dataloader = DataLoader(dataset, batch_size=batch_size, shuffle=True, num_workers=4)"
   ]
  },
  {
   "cell_type": "code",
   "execution_count": 6,
   "metadata": {},
   "outputs": [
    {
     "name": "stdout",
     "output_type": "stream",
     "text": [
      "Using GPU\n",
      "Number of available GPUs: 1\n",
      "Current device index: 0\n",
      "Current device name: NVIDIA GeForce MX450\n"
     ]
    }
   ],
   "source": [
    "if torch.cuda.is_available():\n",
    "    device = torch.device(\"cuda\")\n",
    "    print(\"Using GPU\")\n",
    "else:\n",
    "    device = torch.device(\"cpu\")\n",
    "    print(\"Using CPU\")\n",
    "import torch\n",
    "\n",
    "# Check for GPU availability and set device\n",
    "if torch.cuda.is_available():\n",
    "    device_count = torch.cuda.device_count()\n",
    "    device = torch.device(\"cuda\")\n",
    "    current_device_idx = torch.cuda.current_device()\n",
    "else:\n",
    "    device_count = 0\n",
    "    device = torch.device(\"cpu\")\n",
    "    current_device_idx = None\n",
    "\n",
    "# Print device information\n",
    "print(f\"Number of available GPUs: {device_count}\")\n",
    "print(f\"Current device index: {current_device_idx}\")\n",
    "print(f\"Current device name: {torch.cuda.get_device_name(current_device_idx)}\")"
   ]
  },
  {
   "cell_type": "code",
   "execution_count": 7,
   "metadata": {},
   "outputs": [
    {
     "name": "stdout",
     "output_type": "stream",
     "text": [
      "Epoch:  0\n",
      "Epoch 1/50: Loss: 0.016194780484053813\n",
      "Epoch:  1\n",
      "Epoch 2/50: Loss: 0.0067130597419813726\n",
      "Epoch:  2\n",
      "Epoch 3/50: Loss: 0.006312004876547974\n",
      "Epoch:  3\n",
      "Epoch 4/50: Loss: 0.006161907119880953\n",
      "Epoch:  4\n",
      "Epoch 5/50: Loss: 0.005965906772074734\n",
      "Epoch:  5\n",
      "Epoch 6/50: Loss: 0.005885573986084935\n",
      "Epoch:  6\n",
      "Epoch 7/50: Loss: 0.0056574147644484355\n",
      "Epoch:  7\n",
      "Epoch 8/50: Loss: 0.005656150594900201\n",
      "Epoch:  8\n",
      "Epoch 9/50: Loss: 0.005656649520064884\n",
      "Epoch:  9\n",
      "Epoch 10/50: Loss: 0.005526103487934456\n",
      "Epoch:  10\n",
      "Epoch 11/50: Loss: 0.005766941148377843\n",
      "Epoch:  11\n",
      "Epoch 12/50: Loss: 0.005553724064501914\n",
      "Epoch:  12\n",
      "Epoch 13/50: Loss: 0.0054126765209291045\n",
      "Epoch:  13\n",
      "Epoch 14/50: Loss: 0.005517432463593305\n",
      "Epoch:  14\n",
      "Epoch 15/50: Loss: 0.005415005641691981\n",
      "Epoch:  15\n",
      "Epoch 16/50: Loss: 0.005444692246901232\n",
      "Epoch:  16\n",
      "Epoch 17/50: Loss: 0.005531341573613846\n",
      "Epoch:  17\n",
      "Epoch 18/50: Loss: 0.005455289158143825\n",
      "Epoch:  18\n",
      "Epoch 19/50: Loss: 0.00537303610025866\n",
      "Epoch:  19\n",
      "Epoch 20/50: Loss: 0.005358127591770864\n",
      "Epoch:  20\n",
      "Epoch 21/50: Loss: 0.005342695585887939\n",
      "Epoch:  21\n",
      "Epoch 22/50: Loss: 0.005526816799814725\n",
      "Epoch:  22\n",
      "Epoch 23/50: Loss: 0.0054597774745446595\n",
      "Epoch:  23\n",
      "Epoch 24/50: Loss: 0.005316897478984472\n",
      "Epoch:  24\n",
      "Epoch 25/50: Loss: 0.005260276982626746\n",
      "Epoch:  25\n",
      "Epoch 26/50: Loss: 0.005290007744330221\n",
      "Epoch:  26\n",
      "Epoch 27/50: Loss: 0.005294044746993158\n",
      "Epoch:  27\n",
      "Epoch 28/50: Loss: 0.005238020569067485\n",
      "Epoch:  28\n",
      "Epoch 29/50: Loss: 0.005312889239503565\n",
      "Epoch:  29\n",
      "Epoch 30/50: Loss: 0.005215645032542611\n",
      "Epoch:  30\n",
      "Epoch 31/50: Loss: 0.00527136127149385\n",
      "Epoch:  31\n",
      "Epoch 32/50: Loss: 0.005197197905724902\n",
      "Epoch:  32\n",
      "Epoch 33/50: Loss: 0.005256817009352973\n",
      "Epoch:  33\n",
      "Epoch 34/50: Loss: 0.005190988280973072\n",
      "Epoch:  34\n",
      "Epoch 35/50: Loss: 0.005189160087091026\n",
      "Epoch:  35\n",
      "Epoch 36/50: Loss: 0.005219203662573399\n",
      "Epoch:  36\n",
      "Epoch 37/50: Loss: 0.005174485593267388\n",
      "Epoch:  37\n",
      "Epoch 38/50: Loss: 0.0052253771049319995\n",
      "Epoch:  38\n",
      "Epoch 39/50: Loss: 0.005163373101336283\n",
      "Epoch:  39\n",
      "Epoch 40/50: Loss: 0.005143055667219583\n",
      "Epoch:  40\n",
      "Epoch 41/50: Loss: 0.005152849473422597\n",
      "Epoch:  41\n",
      "Epoch 42/50: Loss: 0.005240797897416934\n",
      "Epoch:  42\n",
      "Epoch 43/50: Loss: 0.005159577034704737\n",
      "Epoch:  43\n",
      "Epoch 44/50: Loss: 0.005142818822919534\n",
      "Epoch:  44\n",
      "Epoch 45/50: Loss: 0.005121997757879887\n",
      "Epoch:  45\n",
      "Epoch 46/50: Loss: 0.005123759315027567\n",
      "Epoch:  46\n",
      "Epoch 47/50: Loss: 0.0051278603726072226\n",
      "Epoch:  47\n",
      "Epoch 48/50: Loss: 0.005113436502846936\n",
      "Epoch:  48\n",
      "Epoch 49/50: Loss: 0.0051610179934669246\n",
      "Epoch:  49\n",
      "Epoch 50/50: Loss: 0.00517316692020324\n"
     ]
    }
   ],
   "source": [
    "############################################# TRAINING #############################################\n",
    "\n",
    "# Move your model and tensors to the device\n",
    "model.to(device)\n",
    "# Move the optimizer to the same device\n",
    "optimizer = optim.Adam(model.parameters(), lr=0.001)\n",
    "\n",
    "epochs = 50\n",
    "for epoch in range(epochs):\n",
    "    print(\"Epoch: \", epoch)\n",
    "    model.train()\n",
    "    epoch_loss = 0.0  # Variable to accumulate loss within each epoch\n",
    "    num_batches = 1\n",
    "    for batch in dataset:\n",
    "        # get the inputs\n",
    "        inputs, labels = batch\n",
    "        inputs = inputs.to(device)\n",
    "        labels = labels.to(device)\n",
    "        \n",
    "        # forward + backward + optimize\n",
    "        outputs = model(inputs)\n",
    "        loss = loss_fn(outputs, labels)\n",
    "        epoch_loss += loss.item()\n",
    "\n",
    "        optimizer.zero_grad()\n",
    "        loss.backward()\n",
    "        optimizer.step()\n",
    "        num_batches += 1\n",
    "\n",
    "    # Print epoch information\n",
    "    print(f\"Epoch {epoch+1}/{epochs}: Loss: {epoch_loss / num_batches}\")\n"
   ]
  },
  {
   "cell_type": "code",
   "execution_count": 33,
   "metadata": {},
   "outputs": [],
   "source": [
    "# Preprocess the input image\n",
    "image = Image.open(\"LR_images/nn/downscaled_nn_flickr_dog_000742.jpg\")\n",
    "image.show()\n",
    "input_image = transform(image)\n",
    "\n",
    "# # Load the trained model\n",
    "# model = DeepImagePrior(input_shape)\n",
    "# model.load_state_dict(torch.load(PATH_TO_SAVED_WEIGHTS))\n",
    "\n",
    "# Set the model to evaluation mode\n",
    "model.eval()\n",
    "\n",
    "# Perform the inference\n",
    "with torch.no_grad():\n",
    "    input_image = input_image.to(device)  # Move the input image to the device\n",
    "    output = model(input_image)\n",
    "\n",
    "# Convert the output to a PIL image\n",
    "output = output.squeeze(0)\n",
    "output = transforms.ToPILImage()(output)\n",
    "output.show()\n"
   ]
  },
  {
   "cell_type": "code",
   "execution_count": 34,
   "metadata": {},
   "outputs": [
    {
     "name": "stdout",
     "output_type": "stream",
     "text": [
      "torch.Size([3, 512, 512])\n"
     ]
    }
   ],
   "source": [
    "# Postprocess the output as needed\n",
    "# Define the inverse transformation\n",
    "# Convert PIL image to tensor\n",
    "transform_to_PIL = transforms.ToTensor()\n",
    "output = transform_to_PIL(output)\n",
    "\n",
    "inverse_transform = transforms.Compose([\n",
    "    transforms.Normalize(mean=[-0.5, -0.5, -0.5], std=[1/0.5, 1/0.5, 1/0.5])  # denormalize from [-1, 1] to [0, 1]\n",
    "])\n",
    "output = inverse_transform(output)\n",
    "print(output.shape)\n",
    "\n",
    "# Convert the tensor to a PIL Image\n",
    "output = Image.fromarray((output * 255).byte().numpy(), 'RGB')\n",
    "output.show()"
   ]
  }
 ],
 "metadata": {
  "kernelspec": {
   "display_name": "dirac",
   "language": "python",
   "name": "python3"
  },
  "language_info": {
   "codemirror_mode": {
    "name": "ipython",
    "version": 3
   },
   "file_extension": ".py",
   "mimetype": "text/x-python",
   "name": "python",
   "nbconvert_exporter": "python",
   "pygments_lexer": "ipython3",
   "version": "3.11.3"
  },
  "orig_nbformat": 4
 },
 "nbformat": 4,
 "nbformat_minor": 2
}
