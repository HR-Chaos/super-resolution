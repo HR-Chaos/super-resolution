{
 "cells": [
  {
   "cell_type": "code",
   "execution_count": 2,
   "metadata": {},
   "outputs": [],
   "source": [
    "import cv2\n",
    "import numpy as np\n",
    "import os"
   ]
  },
  {
   "cell_type": "code",
   "execution_count": 4,
   "metadata": {},
   "outputs": [],
   "source": [
    "#################### For extracting all files from the directories ####################\n",
    "dataset_dir = 'HR_images/'\n",
    "os.makedirs(dataset_dir, exist_ok=True)\n",
    "image_dir = 'dataset/'\n",
    "sub_dir = os.listdir(image_dir)\n",
    "subsub_dir = [0] * len(sub_dir)\n",
    "for i in range(len(sub_dir)):\n",
    "    subsub_dir[i] = os.listdir(image_dir + sub_dir[i])\n",
    "    \n",
    "\n",
    "for i in range (len(sub_dir)):\n",
    "    for j in range (len(subsub_dir[i])):\n",
    "        for file in os.listdir(image_dir + sub_dir[i] + '/' + subsub_dir[i][j]):\n",
    "            # print(image_dir + sub_dir[i] + '/' + subsub_dir[i][j] + '/' + file)\n",
    "            img = cv2.imread(image_dir + sub_dir[i] + '/' + subsub_dir[i][j] + '/' + file)\n",
    "            cv2.imwrite(dataset_dir + '/' + file, img)\n",
    "        "
   ]
  },
  {
   "cell_type": "code",
   "execution_count": 10,
   "metadata": {},
   "outputs": [],
   "source": [
    "#################### For saving all in the same folder ####################\n",
    "# Define the paths, change at convenience\n",
    "input_folder = 'HR_images'\n",
    "output_folder = 'LR_images'\n",
    "\n",
    "nn_folder = output_folder + '/nn'\n",
    "bi_folder = output_folder + '/bi'\n",
    "ci_folder = output_folder + '/ci'\n",
    "ar_folder = output_folder + '/ar'\n",
    "\n",
    "# Create the output folder if it doesn't exist\n",
    "os.makedirs(output_folder, exist_ok=True)\n",
    "os.makedirs(nn_folder, exist_ok=True)\n",
    "os.makedirs(bi_folder, exist_ok=True)\n",
    "os.makedirs(ci_folder, exist_ok=True)\n",
    "os.makedirs(ar_folder, exist_ok=True)"
   ]
  },
  {
   "cell_type": "code",
   "execution_count": 11,
   "metadata": {},
   "outputs": [
    {
     "name": "stdout",
     "output_type": "stream",
     "text": [
      "Image downscaling completed.\n"
     ]
    }
   ],
   "source": [
    "#################### For separate folders based on method ####################\n",
    "# nn_folder = 'define_here'\n",
    "# bi_folder = 'define_here'\n",
    "# ci_folder = 'define_here'\n",
    "# ar_folder = 'define_here'\n",
    "\n",
    "\n",
    "\n",
    "# Get a list of all image files in the input folder\n",
    "image_files = [file for file in os.listdir(input_folder) if file.endswith(('.jpg', '.jpeg', '.png'))]\n",
    "\n",
    "# Iterate over each image file\n",
    "for image_file in image_files:\n",
    "    # Load the image\n",
    "    image_path = os.path.join(input_folder, image_file)\n",
    "    image = cv2.imread(image_path)\n",
    "\n",
    "    #################### Define desired output dimensions here ####################\n",
    "    width = 64\n",
    "    height = 64\n",
    "\n",
    "    ################ Nearest Neighbor ################\n",
    "    downscaled_image = cv2.resize(image, (width, height), interpolation=cv2.INTER_NEAREST)\n",
    "    # Save the downscaled image\n",
    "    output_path = os.path.join(nn_folder, f\"downscaled_nn_{image_file }\")\n",
    "    cv2.imwrite(output_path, downscaled_image)\n",
    "    \n",
    "    ################ Bilinear Interpolation ################\n",
    "    downscaled_image = cv2.resize(image, (width, height), interpolation=cv2.INTER_LINEAR)\n",
    "    # Save the downscaled image\n",
    "    output_path = os.path.join(bi_folder, f\"downscaled_bi_{image_file}\")\n",
    "    cv2.imwrite(output_path, downscaled_image)\n",
    "    \n",
    "    ################ Cubic Interpolation ################\n",
    "    downscaled_image = cv2.resize(image, (width, height), interpolation=cv2.INTER_CUBIC)\n",
    "    # Save the downscaled image\n",
    "    output_path = os.path.join(ci_folder, f\"downscaled_ci_{image_file}\")\n",
    "    cv2.imwrite(output_path, downscaled_image)\n",
    "    \n",
    "    ################ Area Based Resampling ################\n",
    "    downscaled_image = cv2.resize(image, (width, height), interpolation=cv2.INTER_AREA)\n",
    "    # Save the downscaled image\n",
    "    output_path = os.path.join(ar_folder, f\"downscaled_ar_{image_file}\")\n",
    "    cv2.imwrite(output_path, downscaled_image)\n",
    "\n",
    "print(\"Image downscaling completed.\")"
   ]
  }
 ],
 "metadata": {
  "kernelspec": {
   "display_name": "dirac",
   "language": "python",
   "name": "python3"
  },
  "language_info": {
   "codemirror_mode": {
    "name": "ipython",
    "version": 3
   },
   "file_extension": ".py",
   "mimetype": "text/x-python",
   "name": "python",
   "nbconvert_exporter": "python",
   "pygments_lexer": "ipython3",
   "version": "3.11.3"
  },
  "orig_nbformat": 4
 },
 "nbformat": 4,
 "nbformat_minor": 2
}
